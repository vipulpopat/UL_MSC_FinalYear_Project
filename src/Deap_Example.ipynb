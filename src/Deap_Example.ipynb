{
 "cells": [
  {
   "cell_type": "code",
   "execution_count": 1,
   "metadata": {},
   "outputs": [],
   "source": [
    "import random\n",
    "import numpy as np\n",
    "\n",
    "from deap import base, creator, tools"
   ]
  },
  {
   "cell_type": "code",
   "execution_count": 2,
   "metadata": {},
   "outputs": [
    {
     "name": "stdout",
     "output_type": "stream",
     "text": [
      "[256, 32, 256]\n",
      "1\n"
     ]
    }
   ],
   "source": [
    "level1 = [16, 32, 64, 256] #number of filters\n",
    "level2 = [16, 32, 64, 256] #number of filters\n",
    "level3 = [16, 32, 64, 256] #number of filters\n",
    "filters = [random.choice(level1), random.choice(level2), random.choice(level3)]\n",
    "print(filters)\n",
    "\n",
    "pooling_types = [1,2]\n",
    "print(random.choice(pooling_types))\n",
    "\n"
   ]
  },
  {
   "cell_type": "code",
   "execution_count": 3,
   "metadata": {},
   "outputs": [],
   "source": [
    "class ParameterContainer(object):\n",
    "    \n",
    "    def __init__(self, attributes):\n",
    "        pass\n",
    "\n",
    "\n",
    "filter_count = [16, 32, 64, 256] #number of filters\n",
    "pooling_types = [1,2]\n",
    "\n",
    "def initIndividual(ind_class, depth):\n",
    "    # it will be  added later by the creator\n",
    "    filters = []\n",
    "    for filter in range(depth):\n",
    "        filters.append(random.choice(filter_count))\n",
    "        \n",
    "    ind = ind_class(filters)\n",
    "    ind.pooling_type = random.choice(pooling_types)\n",
    "    return ind\n",
    "\n",
    "def dump(obj):\n",
    "  for attr in dir(obj):\n",
    "    print(\"obj.%s = %r\" % (attr, getattr(obj, attr)))"
   ]
  },
  {
   "cell_type": "code",
   "execution_count": 4,
   "metadata": {},
   "outputs": [],
   "source": [
    "creator.create('FitnessMin', base.Fitness, weights=(-1.0,))\n",
    "creator.create('Individual', ParameterContainer, fitness=creator.FitnessMin)"
   ]
  },
  {
   "cell_type": "code",
   "execution_count": 5,
   "metadata": {},
   "outputs": [],
   "source": [
    "toolbox = base.Toolbox()\n",
    "toolbox.register(\"individual\", initIndividual, creator.Individual, depth=3)"
   ]
  },
  {
   "cell_type": "code",
   "execution_count": 6,
   "metadata": {},
   "outputs": [
    {
     "name": "stdout",
     "output_type": "stream",
     "text": [
      "obj.__class__ = <class 'deap.creator.Individual'>\n",
      "obj.__delattr__ = <method-wrapper '__delattr__' of Individual object at 0x7fd3a84a67f0>\n",
      "obj.__dict__ = {'fitness': deap.creator.FitnessMin(()), 'pooling_type': 2}\n",
      "obj.__dir__ = <built-in method __dir__ of Individual object at 0x7fd3a84a67f0>\n",
      "obj.__doc__ = None\n",
      "obj.__eq__ = <method-wrapper '__eq__' of Individual object at 0x7fd3a84a67f0>\n",
      "obj.__format__ = <built-in method __format__ of Individual object at 0x7fd3a84a67f0>\n",
      "obj.__ge__ = <method-wrapper '__ge__' of Individual object at 0x7fd3a84a67f0>\n",
      "obj.__getattribute__ = <method-wrapper '__getattribute__' of Individual object at 0x7fd3a84a67f0>\n",
      "obj.__gt__ = <method-wrapper '__gt__' of Individual object at 0x7fd3a84a67f0>\n",
      "obj.__hash__ = <method-wrapper '__hash__' of Individual object at 0x7fd3a84a67f0>\n",
      "obj.__init__ = <bound method create.<locals>.initType of <deap.creator.Individual object at 0x7fd3a84a67f0>>\n",
      "obj.__init_subclass__ = <built-in method __init_subclass__ of type object at 0x5613347764d8>\n",
      "obj.__le__ = <method-wrapper '__le__' of Individual object at 0x7fd3a84a67f0>\n",
      "obj.__lt__ = <method-wrapper '__lt__' of Individual object at 0x7fd3a84a67f0>\n",
      "obj.__module__ = 'deap.creator'\n",
      "obj.__ne__ = <method-wrapper '__ne__' of Individual object at 0x7fd3a84a67f0>\n",
      "obj.__new__ = <built-in method __new__ of type object at 0x561333060140>\n",
      "obj.__reduce__ = <built-in method __reduce__ of Individual object at 0x7fd3a84a67f0>\n",
      "obj.__reduce_ex__ = <built-in method __reduce_ex__ of Individual object at 0x7fd3a84a67f0>\n",
      "obj.__repr__ = <method-wrapper '__repr__' of Individual object at 0x7fd3a84a67f0>\n",
      "obj.__setattr__ = <method-wrapper '__setattr__' of Individual object at 0x7fd3a84a67f0>\n",
      "obj.__sizeof__ = <built-in method __sizeof__ of Individual object at 0x7fd3a84a67f0>\n",
      "obj.__str__ = <method-wrapper '__str__' of Individual object at 0x7fd3a84a67f0>\n",
      "obj.__subclasshook__ = <built-in method __subclasshook__ of type object at 0x5613347764d8>\n",
      "obj.__weakref__ = None\n",
      "obj.fitness = deap.creator.FitnessMin(())\n",
      "obj.pooling_type = 2\n"
     ]
    }
   ],
   "source": [
    "test_ind = toolbox.individual()\n",
    "dump(test_ind)"
   ]
  },
  {
   "cell_type": "code",
   "execution_count": 7,
   "metadata": {},
   "outputs": [],
   "source": [
    "toolbox.register(\"population\", tools.initRepeat, list, toolbox.individual)"
   ]
  },
  {
   "cell_type": "code",
   "execution_count": 8,
   "metadata": {},
   "outputs": [
    {
     "data": {
      "text/plain": [
       "[<deap.creator.Individual at 0x7fd3a84a69b0>,\n",
       " <deap.creator.Individual at 0x7fd3a84a6978>,\n",
       " <deap.creator.Individual at 0x7fd3a84a6898>,\n",
       " <deap.creator.Individual at 0x7fd3a84a6828>,\n",
       " <deap.creator.Individual at 0x7fd3a84a6b70>,\n",
       " <deap.creator.Individual at 0x7fd3a84a6ba8>,\n",
       " <deap.creator.Individual at 0x7fd3a84a6be0>,\n",
       " <deap.creator.Individual at 0x7fd3a84a6c50>,\n",
       " <deap.creator.Individual at 0x7fd3a84a6cf8>,\n",
       " <deap.creator.Individual at 0x7fd3a84a6c88>,\n",
       " <deap.creator.Individual at 0x7fd3a84a6da0>,\n",
       " <deap.creator.Individual at 0x7fd3a84a66a0>,\n",
       " <deap.creator.Individual at 0x7fd3a84a6d68>,\n",
       " <deap.creator.Individual at 0x7fd3a84a6fd0>,\n",
       " <deap.creator.Individual at 0x7fd3a84a6f98>,\n",
       " <deap.creator.Individual at 0x7fd3a84a6ef0>,\n",
       " <deap.creator.Individual at 0x7fd3a84a6e48>,\n",
       " <deap.creator.Individual at 0x7fd3a8492fd0>,\n",
       " <deap.creator.Individual at 0x7fd3a84b40b8>,\n",
       " <deap.creator.Individual at 0x7fd3a84b4160>,\n",
       " <deap.creator.Individual at 0x7fd3a84b4208>,\n",
       " <deap.creator.Individual at 0x7fd3a84b41d0>,\n",
       " <deap.creator.Individual at 0x7fd3a84b4080>,\n",
       " <deap.creator.Individual at 0x7fd3a84b4278>,\n",
       " <deap.creator.Individual at 0x7fd3a84b4390>,\n",
       " <deap.creator.Individual at 0x7fd3a84b4320>,\n",
       " <deap.creator.Individual at 0x7fd3a84b4438>,\n",
       " <deap.creator.Individual at 0x7fd3a84b44a8>,\n",
       " <deap.creator.Individual at 0x7fd3a84b4518>,\n",
       " <deap.creator.Individual at 0x7fd3a84b4588>,\n",
       " <deap.creator.Individual at 0x7fd3a84b45f8>,\n",
       " <deap.creator.Individual at 0x7fd3a84b4668>,\n",
       " <deap.creator.Individual at 0x7fd3a84b46d8>,\n",
       " <deap.creator.Individual at 0x7fd3a84b4748>,\n",
       " <deap.creator.Individual at 0x7fd3a84b47b8>,\n",
       " <deap.creator.Individual at 0x7fd3a84b4828>,\n",
       " <deap.creator.Individual at 0x7fd3a84b4898>,\n",
       " <deap.creator.Individual at 0x7fd3a84b4908>,\n",
       " <deap.creator.Individual at 0x7fd3a84b4978>,\n",
       " <deap.creator.Individual at 0x7fd3a84b49e8>,\n",
       " <deap.creator.Individual at 0x7fd3a84b4a58>,\n",
       " <deap.creator.Individual at 0x7fd3a84b4ac8>,\n",
       " <deap.creator.Individual at 0x7fd3a84b4b38>,\n",
       " <deap.creator.Individual at 0x7fd3a84b4ba8>,\n",
       " <deap.creator.Individual at 0x7fd3a84b4c18>,\n",
       " <deap.creator.Individual at 0x7fd3a84b4c88>,\n",
       " <deap.creator.Individual at 0x7fd3a84b4cf8>,\n",
       " <deap.creator.Individual at 0x7fd3a84b4d68>,\n",
       " <deap.creator.Individual at 0x7fd3a84b4dd8>,\n",
       " <deap.creator.Individual at 0x7fd3a84b4e48>,\n",
       " <deap.creator.Individual at 0x7fd3a84b4eb8>,\n",
       " <deap.creator.Individual at 0x7fd3a84b4f28>,\n",
       " <deap.creator.Individual at 0x7fd3a84b4f98>,\n",
       " <deap.creator.Individual at 0x7fd3a84ba048>,\n",
       " <deap.creator.Individual at 0x7fd3a84ba0b8>,\n",
       " <deap.creator.Individual at 0x7fd3a84ba128>,\n",
       " <deap.creator.Individual at 0x7fd3a84ba198>,\n",
       " <deap.creator.Individual at 0x7fd3a84ba208>,\n",
       " <deap.creator.Individual at 0x7fd3a84ba278>,\n",
       " <deap.creator.Individual at 0x7fd3a84ba2e8>,\n",
       " <deap.creator.Individual at 0x7fd3a84ba358>,\n",
       " <deap.creator.Individual at 0x7fd3a84ba3c8>,\n",
       " <deap.creator.Individual at 0x7fd3a84ba438>,\n",
       " <deap.creator.Individual at 0x7fd3a84ba4a8>,\n",
       " <deap.creator.Individual at 0x7fd3a84ba518>,\n",
       " <deap.creator.Individual at 0x7fd3a84ba588>,\n",
       " <deap.creator.Individual at 0x7fd3a84ba5f8>,\n",
       " <deap.creator.Individual at 0x7fd3a84ba668>,\n",
       " <deap.creator.Individual at 0x7fd3a84ba6d8>,\n",
       " <deap.creator.Individual at 0x7fd3a84ba748>,\n",
       " <deap.creator.Individual at 0x7fd3a84ba7b8>,\n",
       " <deap.creator.Individual at 0x7fd3a84ba828>,\n",
       " <deap.creator.Individual at 0x7fd3a84ba898>,\n",
       " <deap.creator.Individual at 0x7fd3a84ba908>,\n",
       " <deap.creator.Individual at 0x7fd3a84ba978>,\n",
       " <deap.creator.Individual at 0x7fd3a84ba9e8>,\n",
       " <deap.creator.Individual at 0x7fd3a84baa58>,\n",
       " <deap.creator.Individual at 0x7fd3a84baac8>,\n",
       " <deap.creator.Individual at 0x7fd3a84bab38>,\n",
       " <deap.creator.Individual at 0x7fd3a84baba8>,\n",
       " <deap.creator.Individual at 0x7fd3a84bac18>,\n",
       " <deap.creator.Individual at 0x7fd3a84bac88>,\n",
       " <deap.creator.Individual at 0x7fd3a84bacf8>,\n",
       " <deap.creator.Individual at 0x7fd3a84bad68>,\n",
       " <deap.creator.Individual at 0x7fd3a84badd8>,\n",
       " <deap.creator.Individual at 0x7fd3a84bae48>,\n",
       " <deap.creator.Individual at 0x7fd3a84baeb8>,\n",
       " <deap.creator.Individual at 0x7fd3a84baf28>,\n",
       " <deap.creator.Individual at 0x7fd3a84baf98>,\n",
       " <deap.creator.Individual at 0x7fd3a84bf048>,\n",
       " <deap.creator.Individual at 0x7fd3a84bf0b8>,\n",
       " <deap.creator.Individual at 0x7fd3a84bf128>,\n",
       " <deap.creator.Individual at 0x7fd3a84bf198>,\n",
       " <deap.creator.Individual at 0x7fd3a84bf208>,\n",
       " <deap.creator.Individual at 0x7fd3a84bf278>,\n",
       " <deap.creator.Individual at 0x7fd3a84bf2e8>,\n",
       " <deap.creator.Individual at 0x7fd3a84bf358>,\n",
       " <deap.creator.Individual at 0x7fd3a84bf3c8>,\n",
       " <deap.creator.Individual at 0x7fd3a84bf438>,\n",
       " <deap.creator.Individual at 0x7fd3a84bf4a8>]"
      ]
     },
     "execution_count": 8,
     "metadata": {},
     "output_type": "execute_result"
    }
   ],
   "source": [
    "toolbox.population(n=100)"
   ]
  },
  {
   "cell_type": "code",
   "execution_count": null,
   "metadata": {},
   "outputs": [],
   "source": []
  }
 ],
 "metadata": {
  "kernelspec": {
   "display_name": "Python 3",
   "language": "python",
   "name": "python3"
  },
  "language_info": {
   "codemirror_mode": {
    "name": "ipython",
    "version": 3
   },
   "file_extension": ".py",
   "mimetype": "text/x-python",
   "name": "python",
   "nbconvert_exporter": "python",
   "pygments_lexer": "ipython3",
   "version": "3.6.9"
  }
 },
 "nbformat": 4,
 "nbformat_minor": 2
}
